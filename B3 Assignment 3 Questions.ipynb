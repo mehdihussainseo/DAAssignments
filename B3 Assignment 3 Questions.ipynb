{
 "cells": [
  {
   "cell_type": "markdown",
   "id": "040aea0c-eda0-465a-b3f6-fd58237a430b",
   "metadata": {},
   "source": [
    "Question 1: Age Group Classification \n",
    "\n",
    "Write a Python program that takes the age of a person as input and classifies them into one of the following age groups:\n",
    "\n",
    "\"Child\" if the age is between 0 and 12 (inclusive).\n",
    "\n",
    "\"Teenager\" if the age is between 13 and 19 (inclusive).\n",
    "\n",
    "\"Adult\" if the age is between 20 and 64 (inclusive).\n",
    "\n",
    "\"Senior\" if the age is 65 or older.\n"
   ]
  },
  {
   "cell_type": "code",
   "execution_count": 29,
   "id": "31812fd8-6ac9-4dfb-9903-85f0b3a089ce",
   "metadata": {},
   "outputs": [
    {
     "name": "stdin",
     "output_type": "stream",
     "text": [
      "Please Enter Your Age:  0\n"
     ]
    },
    {
     "name": "stdout",
     "output_type": "stream",
     "text": [
      "You are a Child: 0\n"
     ]
    }
   ],
   "source": [
    "yourAge = int(input(\"Please Enter Your Age: \"))\n",
    "if yourAge <= 12:\n",
    "    print(\"You are a Child:\", yourAge)\n",
    "elif 12 < yourAge <= 19:\n",
    "    print(\"You are a Teenager:\", yourAge)\n",
    "elif 19 < yourAge <= 64:\n",
    "    print(\"You are an Adult:\", yourAge)\n",
    "else:\n",
    "    print(\"You are a Senior:\", yourAge)"
   ]
  },
  {
   "cell_type": "markdown",
   "id": "5068bb33-315c-4a5d-be95-4caa94afe993",
   "metadata": {},
   "source": [
    "Q2. Write a Python program that asks the user to enter an email address. The program should check if the email contains the characters @ and \".\" (ignoring case). If either character is present, print \"Email format is valid.\" Otherwise, print \"Invalid email format.\""
   ]
  },
  {
   "cell_type": "code",
   "execution_count": 35,
   "id": "e5c661ae-ad1f-4509-82c2-1996788a5e98",
   "metadata": {},
   "outputs": [
    {
     "name": "stdin",
     "output_type": "stream",
     "text": [
      "Please Enter Your Email:  hgkvgv@hbhb.yciyc.igv\n"
     ]
    },
    {
     "name": "stdout",
     "output_type": "stream",
     "text": [
      "Invalid Email Format. hgkvgv@hbhb.yciyc.igv\n"
     ]
    }
   ],
   "source": [
    "userEmail = input(\"Please Enter Your Email: \")\n",
    "if \"@\" in userEmail:\n",
    "    if \".\" in userEmail:\n",
    "        if userEmail.index(\"@\") < userEmail.index(\".\"):\n",
    "            if userEmail.count(\"@\") == 1 and userEmail.count(\".\") == 1:\n",
    "                print(\"Email Format is Valid:\", userEmail)\n",
    "            else:\n",
    "                print(\"Invalid Email Format.\", userEmail)\n",
    "        else:\n",
    "            print(\"Invalid Email Format.\", userEmail)\n",
    "    else:\n",
    "        print(\"Invalid Email Format.\", userEmail)\n",
    "else:\n",
    "    print(\"Invalid Email Format.\", userEmail)"
   ]
  },
  {
   "cell_type": "markdown",
   "id": "a074ddbe-c5c4-455e-ac3c-53fbbc6c2d56",
   "metadata": {},
   "source": [
    "Q3. Write a Python program that takes three numbers as input and determines the largest among them. Also, check if any or all of the numbers are equal.\""
   ]
  },
  {
   "cell_type": "code",
   "execution_count": 1,
   "id": "1701e950-7413-4b25-aa66-cf69f4a44a05",
   "metadata": {},
   "outputs": [
    {
     "name": "stdin",
     "output_type": "stream",
     "text": [
      "Please Enter a Number:  22\n",
      "Please Enter a Number:  22\n",
      "Please Enter a Number:  33\n"
     ]
    },
    {
     "name": "stdout",
     "output_type": "stream",
     "text": [
      "User input 3 '33' is the largest number...\n"
     ]
    }
   ],
   "source": [
    "userInput1 = int(input(\"Please Enter a Number: \"))\n",
    "userInput2 = int(input(\"Please Enter a Number: \"))\n",
    "userInput3 = int(input(\"Please Enter a Number: \"))\n",
    "\n",
    "if userInput1 > userInput2:\n",
    "    if userInput2 >= userInput3:\n",
    "        print(f\"User input 1 '{userInput1}' is the largest number...\")\n",
    "    elif userInput2 < userInput3:\n",
    "        if userInput1 < userInput3:\n",
    "            print(f\"User input 3 '{userInput3}' is the largest number...\")\n",
    "        elif userInput1 == userInput3:\n",
    "            print(f\"User input 1 & 3 '{userInput1}', '{userInput3}' are the largest number...\")\n",
    "        else:\n",
    "            print(f\"User input 1 '{userInput1}' is the largest number...\")\n",
    "elif userInput1 < userInput2:\n",
    "    if userInput2 > userInput3:\n",
    "        print(f\"User input 2 '{userInput2}' is the largest number...\")\n",
    "    elif userInput2 == userInput3:\n",
    "        print(f\"User input 2 & 3 '{userInput2}', '{userInput3}' both are equal and the largest numbers...\")\n",
    "    else:\n",
    "        print(f\"User input 3 '{userInput3}' is the largest number...\")\n",
    "else:\n",
    "    if userInput2 == userInput3:\n",
    "        print(f\"User input 1, 2, & 3 '{userInput1}', '{userInput2}', '{userInput3}' all are equal numbers...\")\n",
    "    elif userInput2 > userInput3:\n",
    "        print(f\"User input 1 & 2 '{userInput1}', '{userInput2}' are equal and the largest numbers...\")\n",
    "    else:\n",
    "        print(f\"User input 3 '{userInput3}' is the largest number...\")"
   ]
  },
  {
   "cell_type": "markdown",
   "id": "55560bd6-a9d8-4e57-a192-b3e9932ff5cb",
   "metadata": {},
   "source": [
    "Q4. Write a Python program that:\n",
    "\n",
    "Asks the user to enter a number.\n",
    "\n",
    "Checks whether the number is positive.\n",
    "\n",
    "If yes, further check if it's even or odd.\n",
    "\n",
    "Print \"The number is positive and even\" if divisible by 2.\n",
    "\n",
    "Print \"The number is positive and odd\" if not divisible by 2.\n",
    "\n",
    "If the number is zero or negative, print \"The number is not positive\".\n",
    "\n"
   ]
  },
  {
   "cell_type": "code",
   "execution_count": 23,
   "id": "5db82794-7e58-4075-8735-ec718e7251f9",
   "metadata": {},
   "outputs": [
    {
     "name": "stdin",
     "output_type": "stream",
     "text": [
      "Please Enter a Number:  -12\n"
     ]
    },
    {
     "name": "stdout",
     "output_type": "stream",
     "text": [
      "The Number is not Positive...\n"
     ]
    }
   ],
   "source": [
    "userNumber = int(input(\"Please Enter a Number: \"))\n",
    "if userNumber > 0:\n",
    "    if userNumber % 2 == 0:\n",
    "        print(\"The number is positive and even...\")\n",
    "    else:\n",
    "        print(\"The number is positive and odd...\")\n",
    "else:\n",
    "    print(\"The Number is not Positive...\")"
   ]
  },
  {
   "cell_type": "markdown",
   "id": "800fe26a-5d6e-4107-97ba-62fa4f913093",
   "metadata": {},
   "source": [
    "Q5. Ask the user for a username and password. Check if the username is correct. If it is, then check if the password is correct. If both are correct, print \"Access granted\".\n",
    "\n",
    "username = \"admin\"\n",
    "\n",
    "password = \"1234\""
   ]
  },
  {
   "cell_type": "code",
   "execution_count": 37,
   "id": "e865eeb7-dd43-47d3-91f8-e800543dc46f",
   "metadata": {},
   "outputs": [
    {
     "name": "stdin",
     "output_type": "stream",
     "text": [
      "Please Enter Your Username:  admin\n",
      "Please Enter Your Password:  sadas\n"
     ]
    },
    {
     "name": "stdout",
     "output_type": "stream",
     "text": [
      "Your Password is Incorrect...\n"
     ]
    }
   ],
   "source": [
    "username = \"admin\"\n",
    "password = \"1234\"\n",
    "yourUserName = input(\"Please Enter Your Username: \")\n",
    "if yourUserName == username:\n",
    "    yourPassword = input(\"Please Enter Your Password: \")\n",
    "    if yourPassword == password:\n",
    "        print(\"Access Granted...\")\n",
    "    else:\n",
    "        print(\"Your Password is Incorrect...\")\n",
    "else:\n",
    "    print(\"Your Username is Incorrect...\")"
   ]
  },
  {
   "cell_type": "markdown",
   "id": "d7512946-1c55-48d5-b62d-4f17c84f457a",
   "metadata": {},
   "source": [
    "Q6. Take an integer input from the user and check whether the entered value exists in the tuple my_tuple = (5, 10, 15, 20, 25). Print an appropriate message based on the result."
   ]
  },
  {
   "cell_type": "code",
   "execution_count": 41,
   "id": "51b9814c-3dea-44ea-af4d-e521c07ef181",
   "metadata": {},
   "outputs": [
    {
     "name": "stdin",
     "output_type": "stream",
     "text": [
      "Please Guess a Number:  25\n"
     ]
    },
    {
     "name": "stdout",
     "output_type": "stream",
     "text": [
      "Nailed it! You guessed a right number... 25\n"
     ]
    }
   ],
   "source": [
    "my_tuple = (5, 10, 15, 20, 25)\n",
    "integerInput = int(input(\"Please Guess a Number: \"))\n",
    "if integerInput in my_tuple:\n",
    "    print(\"Nailed it! You guessed a right number...\",integerInput)\n",
    "else:\n",
    "    print(\"Wrong Guess! Better Luck next time...\")"
   ]
  },
  {
   "cell_type": "markdown",
   "id": "f38b44b4-1244-4fa9-a186-8153caa421ec",
   "metadata": {},
   "source": [
    "Q7. Create a program that takes the user's first name, last name, and age as input, packs them into a tuple, and prints the tuple."
   ]
  },
  {
   "cell_type": "code",
   "execution_count": 45,
   "id": "849a3bf7-7b28-4686-b917-87dab4c80681",
   "metadata": {},
   "outputs": [
    {
     "name": "stdin",
     "output_type": "stream",
     "text": [
      "Please enter your first name:  abc\n",
      "Please enter your last name:  abcd\n",
      "Please enter your age:  123\n"
     ]
    },
    {
     "name": "stdout",
     "output_type": "stream",
     "text": [
      "User Details:  ('abc', 'abcd', 123)\n"
     ]
    }
   ],
   "source": [
    "firstName = input(\"Please enter your first name: \")\n",
    "lastName = input(\"Please enter your last name: \")\n",
    "userAge = int(input(\"Please enter your age: \"))\n",
    "userData = (firstName, lastName, userAge)\n",
    "print(\"User Details: \", userData)"
   ]
  },
  {
   "cell_type": "markdown",
   "id": "6a08567b-6f6c-4374-a54e-992c09a31780",
   "metadata": {},
   "source": [
    "Q8. Given the tuple coordinates = (4, 5, 6), unpack the elements of the tuple into three variables x, y, and z. Then, calculate and print the sum of the variables."
   ]
  },
  {
   "cell_type": "code",
   "execution_count": 51,
   "id": "3f4ec316-edeb-4f43-9624-80e29c195a9a",
   "metadata": {},
   "outputs": [
    {
     "name": "stdout",
     "output_type": "stream",
     "text": [
      "15\n"
     ]
    }
   ],
   "source": [
    "coordinates = (4, 5, 6)\n",
    "x,y,z = coordinates\n",
    "total = x + y + z\n",
    "print(total)"
   ]
  },
  {
   "cell_type": "markdown",
   "id": "d3973711-1c49-436f-aaff-e0a19877f525",
   "metadata": {},
   "source": [
    "Q9. Given the tuple my_tuple = (1, 2, 3, 4, 5), remove the element 3 from the tuple by first converting it to a list, and then print the resulting tuple."
   ]
  },
  {
   "cell_type": "code",
   "execution_count": 53,
   "id": "84bd9cf2-422d-4685-98b4-cd8bd7948009",
   "metadata": {},
   "outputs": [
    {
     "name": "stdout",
     "output_type": "stream",
     "text": [
      "(1, 2, 4, 5)\n"
     ]
    }
   ],
   "source": [
    "my_tuple = (1, 2, 3, 4, 5)\n",
    "myList = list(my_tuple)\n",
    "myList.remove(3)\n",
    "my_tuple = tuple(myList)\n",
    "print(my_tuple)"
   ]
  },
  {
   "cell_type": "markdown",
   "id": "c9c6a478-5d3d-4e1e-8bce-b9479925c7c5",
   "metadata": {},
   "source": [
    "Q10. Given the tuple numbers = (10, 20, 5, 30, 15), find and print the maximum and minimum values in the tuple."
   ]
  },
  {
   "cell_type": "code",
   "execution_count": 59,
   "id": "c8b0224f-1cac-496e-a188-a870aae8a7f3",
   "metadata": {},
   "outputs": [
    {
     "name": "stdout",
     "output_type": "stream",
     "text": [
      "Max Value: 30\n",
      "Min Value: 5\n"
     ]
    }
   ],
   "source": [
    "tupleNumbers = (10, 20, 5, 30, 15)\n",
    "maxValue = max(tupleNumbers)\n",
    "minValue = min(tupleNumbers)\n",
    "print(f\"\"\"Max Value: {maxValue}\\nMin Value: {minValue}\"\"\")"
   ]
  }
 ],
 "metadata": {
  "kernelspec": {
   "display_name": "Python [conda env:base] *",
   "language": "python",
   "name": "conda-base-py"
  },
  "language_info": {
   "codemirror_mode": {
    "name": "ipython",
    "version": 3
   },
   "file_extension": ".py",
   "mimetype": "text/x-python",
   "name": "python",
   "nbconvert_exporter": "python",
   "pygments_lexer": "ipython3",
   "version": "3.12.7"
  }
 },
 "nbformat": 4,
 "nbformat_minor": 5
}
