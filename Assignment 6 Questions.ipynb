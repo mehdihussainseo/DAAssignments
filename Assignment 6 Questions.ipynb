{
 "cells": [
  {
   "cell_type": "markdown",
   "id": "d87ac2e7-8041-48c6-aa52-47ddd2cb0330",
   "metadata": {},
   "source": [
    "1. Question:\n",
    "\n",
    "Imagine a scenario where we have two classes:\n",
    "\n",
    "Person: Represents a person with attributes like name and age, and a method introduce() to introduce the person.\n",
    "\n",
    "Employee: Represents an employee with attributes like employee_id and department, and a method work() to describe the work of the employee.\n",
    "\n",
    "Create a child class Manager that inherits from both Person and Employee. The Manager class should have a method manage() that describes the work the manager does. Instantiate a Manager object and call all methods (introduce(), work(), and manage()).\n",
    "\n",
    "Expected Output:\n",
    "\n",
    "- Hello, my name is John and I am 35 years old.\n",
    "- Employee M123 is working in HR department.\n",
    "- Manager John is managing the team in the HR department.\n"
   ]
  },
  {
   "cell_type": "code",
   "execution_count": 23,
   "id": "c433fa52-158c-4dcb-be2c-4c6cdf8ec65f",
   "metadata": {},
   "outputs": [],
   "source": [
    "class Person:\n",
    "    def introduce(self):\n",
    "        return f'Hello, my name is {self.name}, and I am {self.age} years old...'"
   ]
  },
  {
   "cell_type": "code",
   "execution_count": 24,
   "id": "15189b6e-31d4-447d-82f2-6297ca97ccbb",
   "metadata": {},
   "outputs": [],
   "source": [
    "class Employee:\n",
    "    def work(self):\n",
    "        return f'Employee {self.employee_id} is working in {self.department} department...'"
   ]
  },
  {
   "cell_type": "code",
   "execution_count": 25,
   "id": "061e8408-502e-4b42-bd59-c7067b8cc830",
   "metadata": {},
   "outputs": [],
   "source": [
    "class Manager(Person, Employee):\n",
    "    def __init__(self,name,age,employee_id,department):\n",
    "        self.name = name\n",
    "        self.age = age\n",
    "        self.employee_id = employee_id\n",
    "        self.department = department\n",
    "    def manage(self):\n",
    "        return f'Manager {self.name} is managing the team in the HR department...'"
   ]
  },
  {
   "cell_type": "code",
   "execution_count": 22,
   "id": "fe7a82a4-a37d-4a47-91dd-6789e6cf630e",
   "metadata": {},
   "outputs": [
    {
     "name": "stdout",
     "output_type": "stream",
     "text": [
      "Hello, my name is John, and I am 35 years old...\n",
      "Employee M123 is working in HR department...\n",
      "Manager John is managing the team in the HR department...\n"
     ]
    }
   ],
   "source": [
    "m = Manager('John',35,'M123','HR')\n",
    "print(m.introduce())\n",
    "print(m.work())\n",
    "print(m.manage())"
   ]
  },
  {
   "cell_type": "markdown",
   "id": "4a896d59-313a-41eb-8f81-cb1af3dfb8f1",
   "metadata": {},
   "source": [
    "2. Create a class Greeting with a method greet() that can handle different numbers of arguments.\n",
    "\n",
    "- If no argument is passed, it should print \"Hello!\".\n",
    "- If one argument (a name) is passed, it should print \"Hello, <name>!\".\n",
    "- If two arguments (a name and a greeting) are passed, it should print the greeting with the name (e.g., \"Good morning, <name>!\").\n",
    "\n",
    "Simulate method overloading using default arguments or variable-length arguments, and demonstrate the polymorphic behavior by calling greet() with different numbers of arguments.\n",
    "\n",
    "Expected Output:\n",
    "\n",
    "- Hello!\n",
    "- Hello, John!\n",
    "- Good morning, John!\n"
   ]
  },
  {
   "cell_type": "code",
   "execution_count": 39,
   "id": "d61475e5-9aa8-4a61-abac-c9130644c1f9",
   "metadata": {},
   "outputs": [],
   "source": [
    "class Greeting:\n",
    "    def __init__(self,*args):\n",
    "        self.args = args\n",
    "        self.welcome()\n",
    "    def welcome(self):\n",
    "        if len(self.args) > 1 and self.args[0]:\n",
    "            if self.args[1]:\n",
    "                print(f'{self.args[1]}, {self.args[0]}!')\n",
    "            else:\n",
    "                print(f'Hello, {self.args[0]}!')\n",
    "            \n",
    "        else:\n",
    "            print('Hello!')"
   ]
  },
  {
   "cell_type": "code",
   "execution_count": 42,
   "id": "fc578994-cf4e-4bb2-a940-69941d55bd39",
   "metadata": {},
   "outputs": [
    {
     "name": "stdout",
     "output_type": "stream",
     "text": [
      "Hello!\n"
     ]
    }
   ],
   "source": [
    "m = Greeting()"
   ]
  },
  {
   "cell_type": "markdown",
   "id": "f1a4787e-750f-4ad1-b4ba-75ec1bb81e3e",
   "metadata": {},
   "source": [
    "3. Create a class SecuritySystem to manage a Security PIN. The class should have:\n",
    "\n",
    "- A private attribute __pin to store the PIN.\n",
    "- A method validate_pin(pin) that checks if the input PIN matches the stored one.\n",
    "- A method change_pin(old_pin, new_pin) to allow the user to change their PIN. The method should:\n",
    "    - Ensure the old PIN is correct.\n",
    "    - Ensure the new PIN is a 4-digit number.\n",
    "\n",
    "Demonstrate the following:\n",
    "\n",
    "- Validate the PIN.\n",
    "- Change the PIN with correct and incorrect old PINs, and valid/invalid new PINs.\n",
    "\n",
    "Expected Output:\n",
    "\n",
    "- PIN validated successfully.\n",
    "- Invalid PIN.\n",
    "- PIN changed successfully.\n",
    "- New PIN must be a 4-digit number.\n",
    "- Incorrect old PIN. PIN not changed.\n"
   ]
  },
  {
   "cell_type": "code",
   "execution_count": 10,
   "id": "2a3e192c-7f9d-4110-acf3-a5e154aa362b",
   "metadata": {},
   "outputs": [],
   "source": [
    "class SecuritySystem:\n",
    "    def __init__(self):\n",
    "        self.__pin = ''\n",
    "        self.validate_pin()\n",
    "        \n",
    "    def validate_pin(self):\n",
    "        user_input = input('Please Enter a 4-digit PIN... ')\n",
    "        if len(user_input) == 4:\n",
    "            if user_input.isdigit():\n",
    "                self.__pin = user_input\n",
    "                print('PIN Validated successfully...')\n",
    "            else:\n",
    "                print('Invalid Pin...')\n",
    "        else:\n",
    "            print('You are only Allowed to set a 4-Digit PIN...')\n",
    "            \n",
    "    def change_pin(self):\n",
    "        user_pin = int(input('Please Enter your old pin... '))\n",
    "        if user_pin == self.__pin:\n",
    "            new_pin = int(input('Please Enter your new pin... '))\n",
    "            self.__pin = new_pin\n",
    "            print('PIN changed successfully...')\n",
    "        else:\n",
    "            print('Incorrect old PIN. PIN cannot Changed.')"
   ]
  },
  {
   "cell_type": "code",
   "execution_count": 11,
   "id": "e64abc1b-3f56-4355-88d5-97d5899a0f0d",
   "metadata": {},
   "outputs": [
    {
     "name": "stdin",
     "output_type": "stream",
     "text": [
      "Please Enter a 4-digit PIN...  1234\n"
     ]
    },
    {
     "name": "stdout",
     "output_type": "stream",
     "text": [
      "PIN Validated successfully...\n"
     ]
    }
   ],
   "source": [
    "user1 = SecuritySystem()"
   ]
  },
  {
   "cell_type": "markdown",
   "id": "1c70c9fc-177c-4f0a-a63a-31725e52a6e8",
   "metadata": {},
   "source": [
    "4. Use abstraction to model different geometric shapes such as circle and rectangle.\n",
    "\n",
    "Instructions:\n",
    "\n",
    "- Create an abstract class Shape with a method area to calculate the area.\n",
    "- Create concrete classes Circle and Rectangle that implement the area method.\n",
    "- Create instances of these shapes and calculate their areas.\n",
    "\n",
    "Expected Output:\n",
    "\n",
    "- Area of Circle: 78.5\n",
    "- Area of Rectangle: 24\n"
   ]
  },
  {
   "cell_type": "code",
   "execution_count": 13,
   "id": "eb73797b-2a04-4544-a321-59ceddb4aea6",
   "metadata": {},
   "outputs": [],
   "source": [
    "from abc import ABC, abstractmethod\n",
    "\n",
    "class Shape(ABC):\n",
    "    \n",
    "    @abstractmethod\n",
    "    def area(self):\n",
    "        pass\n"
   ]
  },
  {
   "cell_type": "code",
   "execution_count": 14,
   "id": "a294d9cf-52f2-41e7-b63f-bc1d8e10d785",
   "metadata": {},
   "outputs": [],
   "source": [
    "class Circle(Shape):\n",
    "    def __init__(self, radius):\n",
    "        self.radius = radius\n",
    "\n",
    "    def area(self):\n",
    "        return 3.14159 * self.radius * self.radius"
   ]
  },
  {
   "cell_type": "code",
   "execution_count": 15,
   "id": "94ae5559-1cca-4d0a-90e3-17fbe17e28d8",
   "metadata": {},
   "outputs": [],
   "source": [
    "class Rectangle(Shape):\n",
    "    def __init__(self, width, height):\n",
    "        self.width = width\n",
    "        self.height = height\n",
    "\n",
    "    def area(self):\n",
    "        return self.width * self.height"
   ]
  },
  {
   "cell_type": "code",
   "execution_count": 21,
   "id": "4e7e9fcf-c6e6-480e-a3e8-22caa79ec4d6",
   "metadata": {},
   "outputs": [],
   "source": [
    "c = Circle(5)\n",
    "r = Rectangle(10,12)"
   ]
  },
  {
   "cell_type": "code",
   "execution_count": 24,
   "id": "ef1b7518-d97f-4631-92de-662b2bb7a06a",
   "metadata": {},
   "outputs": [
    {
     "name": "stdout",
     "output_type": "stream",
     "text": [
      "Area of Circle: 78.5\n",
      "Area of Rectangle: 120\n"
     ]
    }
   ],
   "source": [
    "print(f'Area of Circle: {c.area():.1f}')\n",
    "print(f'Area of Rectangle: {r.area()}')"
   ]
  },
  {
   "cell_type": "markdown",
   "id": "70a07851-af81-4e26-a9d1-94c92ffa0d6b",
   "metadata": {},
   "source": [
    "5. Create a class Notification with a method send(), which prints \"Sending notification\".\n",
    "Then, create two subclasses:\n",
    "\n",
    "EmailNotification: Override the send() method to print \"Sending email\".\n",
    "\n",
    "SMSNotification: Override the send() method to print \"Sending SMS\".\n",
    "\n",
    "Demonstrate method overriding calling send() on instances of EmailNotification and SMSNotification."
   ]
  },
  {
   "cell_type": "code",
   "execution_count": 28,
   "id": "c58394fd-97e5-4cc1-9e08-84b6d20a2108",
   "metadata": {},
   "outputs": [],
   "source": [
    "class Notification:\n",
    "    def send(self):\n",
    "        print('Sending Notification...')"
   ]
  },
  {
   "cell_type": "code",
   "execution_count": 33,
   "id": "6cb0b28a-70d0-4fd3-8f4b-26031db6d669",
   "metadata": {},
   "outputs": [],
   "source": [
    "class EmailNotification(Notification):\n",
    "    def send(self):\n",
    "        return'Sending Email...'"
   ]
  },
  {
   "cell_type": "code",
   "execution_count": 34,
   "id": "56b3349b-0f2e-466d-bd3a-dc34c955ce8a",
   "metadata": {},
   "outputs": [],
   "source": [
    "class SMSNotification(Notification):\n",
    "    def send(self):\n",
    "        return'Sending SMS...'"
   ]
  },
  {
   "cell_type": "code",
   "execution_count": 35,
   "id": "12177d1c-2885-48d4-a7c6-678c29e945b4",
   "metadata": {},
   "outputs": [],
   "source": [
    "en = EmailNotification()\n",
    "sn = SMSNotification()"
   ]
  },
  {
   "cell_type": "code",
   "execution_count": 36,
   "id": "5245988f-691c-4d90-a466-dd3d445ca93a",
   "metadata": {},
   "outputs": [
    {
     "name": "stdout",
     "output_type": "stream",
     "text": [
      "Sending Email...\n",
      "Sending SMS...\n"
     ]
    }
   ],
   "source": [
    "print(en.send())\n",
    "print(sn.send())"
   ]
  },
  {
   "cell_type": "code",
   "execution_count": null,
   "id": "c3554beb-853d-4c5b-8700-cc97ba14096e",
   "metadata": {},
   "outputs": [],
   "source": []
  }
 ],
 "metadata": {
  "kernelspec": {
   "display_name": "Python 3 (ipykernel)",
   "language": "python",
   "name": "python3"
  },
  "language_info": {
   "codemirror_mode": {
    "name": "ipython",
    "version": 3
   },
   "file_extension": ".py",
   "mimetype": "text/x-python",
   "name": "python",
   "nbconvert_exporter": "python",
   "pygments_lexer": "ipython3",
   "version": "3.12.7"
  }
 },
 "nbformat": 4,
 "nbformat_minor": 5
}
