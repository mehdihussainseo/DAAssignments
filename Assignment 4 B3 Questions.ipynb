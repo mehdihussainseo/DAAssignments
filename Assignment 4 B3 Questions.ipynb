{
 "cells": [
  {
   "cell_type": "markdown",
   "id": "ded69d83-04af-41d6-8e49-609befccff3f",
   "metadata": {},
   "source": [
    "Q1.\n",
    "\n",
    "An e-commerce store stores information about its products in a nested dictionary. The outer dictionary uses product IDs as keys, and the inner dictionary stores product details like name, category, price, and stock quantity. products = { 101: {\"name\": \"Laptop\", \"category\": \"Electronics\", \"price\": 1200, \"stock\": 50}, 102: {\"name\": \"Shirt\", \"category\": \"Apparel\", \"price\": 25, \"stock\": 200}, 103: {\"name\": \"Coffee Maker\", \"category\": \"Home Appliances\", \"price\": 80, \"stock\": 30} }\n",
    "\n",
    "• Increase the stock of the \"Shirt\" product (add 50 more units)\n",
    "\n",
    "• Add a new product (e.g., \"Smartphone\")"
   ]
  },
  {
   "cell_type": "code",
   "execution_count": 3,
   "id": "31a24fb0-d60e-4972-a590-97486757a57d",
   "metadata": {},
   "outputs": [
    {
     "name": "stdout",
     "output_type": "stream",
     "text": [
      "{101: {'name': 'Laptop', 'category': 'Electronics', 'price': 1200, 'stock': 50}, 102: {'name': 'Shirt', 'category': 'Apparel', 'price': 25, 'stock': 250}, 103: {'name': 'Coffee Maker', 'category': 'Home Appliances', 'price': 80, 'stock': 30}, 104: {'name': 'Samsung', 'category': 'Smartphone', 'price': 65000, 'Stock': 100}}\n",
      "250\n"
     ]
    }
   ],
   "source": [
    "products = {\n",
    "    101: {\"name\": \"Laptop\", \"category\": \"Electronics\", \"price\": 1200, \"stock\": 50},\n",
    "    102: {\"name\": \"Shirt\", \"category\": \"Apparel\", \"price\": 25, \"stock\": 200},\n",
    "    103: {\"name\": \"Coffee Maker\", \"category\": \"Home Appliances\", \"price\": 80, \"stock\": 30} \n",
    "}\n",
    "dictSmartPhone = {\"name\":\"Samsung\",\"category\":\"Smartphone\",\"price\":65000,\"Stock\":100}\n",
    "\n",
    "products[102][\"stock\"] += 50\n",
    "products[104] = dictSmartPhone\n",
    "\n",
    "print(products)\n",
    "print(products[102][\"stock\"])"
   ]
  },
  {
   "cell_type": "markdown",
   "id": "e10a9a28-2eb0-415e-a90c-41e3e1b2853e",
   "metadata": {},
   "source": [
    "Q2.\n",
    "\n",
    "You are given a list that contains some duplicate items. Remove the duplicates\n",
    "\n",
    "shopping_list = [\"apple\", \"banana\", \"apple\", \"orange\", \"banana\", \"grape\"]"
   ]
  },
  {
   "cell_type": "code",
   "execution_count": 5,
   "id": "87fd762d-1d2c-43e9-b3a5-69653a4f621c",
   "metadata": {},
   "outputs": [
    {
     "name": "stdout",
     "output_type": "stream",
     "text": [
      "['apple', 'orange', 'banana', 'grape']\n"
     ]
    }
   ],
   "source": [
    "shopping_list = [\"apple\", \"banana\", \"apple\", \"orange\", \"banana\", \"grape\"]\n",
    "shopping_list = list(set(shopping_list))\n",
    "print(shopping_list)"
   ]
  },
  {
   "cell_type": "markdown",
   "id": "0a62bc87-09d4-44c1-8311-2d3c6867511b",
   "metadata": {},
   "source": [
    "Q3.\n",
    "\n",
    "You are managing a list of students enrolled in two different courses. You need to perform various set operations to understand the student enrollment. Task: Create two sets: one for students in \"Course A\" and one for students in \"Course B\". Find the students who are in \"Course A\" but not in \"Course B\" (difference). Find students who are only in one of the two courses (symmetric difference). \n",
    "\n",
    "course_a = {\"John\", \"Alice\", \"Bob\", \"David\"} \n",
    "\n",
    "course_b = {\"Alice\", \"Eve\", \"Charlie\", \"David\"}\n",
    "\n",
    "• Find students who are in Course A but not in Course B (difference)\n",
    "\n",
    "• Find students who are only in one of the two courses (symmetric difference)"
   ]
  },
  {
   "cell_type": "code",
   "execution_count": 11,
   "id": "ce471e14-ad23-42e7-90cb-219e1d9bbdee",
   "metadata": {},
   "outputs": [
    {
     "name": "stdout",
     "output_type": "stream",
     "text": [
      "{'Bob', 'John'}\n",
      "{'Eve', 'Charlie', 'Bob', 'John'}\n"
     ]
    }
   ],
   "source": [
    "course_a = {\"John\", \"Alice\", \"Bob\", \"David\"}\n",
    "course_b = {\"Alice\", \"Eve\", \"Charlie\", \"David\"}\n",
    "\n",
    "print(course_a.difference(course_b))\n",
    "print(course_a.symmetric_difference(course_b))\n"
   ]
  },
  {
   "cell_type": "markdown",
   "id": "822000b2-e437-4d5d-9fff-2bded3b347cb",
   "metadata": {},
   "source": [
    "Q4.\n",
    "\n",
    "Write a Python program that calculates the sum of all even numbers between 1 and 50 (inclusive) using a for loop.\n",
    "\n",
    "Hint\n",
    "\n",
    "- Initialize a variable to hold the sum (e.g., sum_of_evens).\n",
    "- Use a for loop to iterate through all numbers from 1 to 50.\n",
    "- Inside the loop, check if the number is even.\n",
    "- If the number is even, add it to sum_of_evens.\n",
    "- After the loop finishes, print the total sum of all even numbers between 1 and 50."
   ]
  },
  {
   "cell_type": "code",
   "execution_count": 17,
   "id": "017b0b32-dfa2-4684-9430-6745f7def4bb",
   "metadata": {},
   "outputs": [
    {
     "name": "stdout",
     "output_type": "stream",
     "text": [
      "650\n"
     ]
    }
   ],
   "source": [
    "sum_of_evens = 0\n",
    "\n",
    "for number in range(1,51):\n",
    "    if number % 2 == 0:\n",
    "        sum_of_evens += number\n",
    "    else:\n",
    "        continue\n",
    "        \n",
    "print(sum_of_evens)"
   ]
  },
  {
   "cell_type": "markdown",
   "id": "b6529e21-c453-48f0-acee-54044715bc1d",
   "metadata": {},
   "source": [
    "Q5. Power of a Number Write a Python program that takes a number and prints the powers of the number (starting from 1 to 10) using a while loop. For example, if the user inputs 3, the output should be:\n",
    "\n",
    "3^1 = 3\n",
    "\n",
    "3^2 = 9\n",
    "\n",
    "3^3 = 27\n",
    "\n",
    "... up to 3^10."
   ]
  },
  {
   "cell_type": "code",
   "execution_count": 19,
   "id": "d6823c25-f268-4884-b5c7-7986dbcc2075",
   "metadata": {},
   "outputs": [
    {
     "name": "stdin",
     "output_type": "stream",
     "text": [
      "Please enter a number:  3\n"
     ]
    },
    {
     "name": "stdout",
     "output_type": "stream",
     "text": [
      "3^1 = 3\n",
      "3^2 = 9\n",
      "3^3 = 27\n",
      "3^4 = 81\n",
      "3^5 = 243\n",
      "3^6 = 729\n",
      "3^7 = 2187\n",
      "3^8 = 6561\n",
      "3^9 = 19683\n",
      "3^10 = 59049\n"
     ]
    }
   ],
   "source": [
    "user_input = int(input(\"Please enter a number: \"))\n",
    "is_power = 1\n",
    "\n",
    "while is_power <= 10:\n",
    "    print(f\"{user_input}^{is_power} = {user_input**is_power}\")\n",
    "    is_power+=1"
   ]
  },
  {
   "cell_type": "markdown",
   "id": "17616e00-7421-4145-8177-c27d67f85b18",
   "metadata": {},
   "source": [
    "Q6. \n",
    "\n",
    "Problem Statement: Write a Python program that takes an integer input from the user and counts down from that number to 0. The program should display the current number at each step until it reaches 0, at which point it should print a message indicating the countdown is finished\n",
    "\n",
    "Output Hint:\n",
    "\n",
    "Enter a number to start the countdown: 3\n",
    "\n",
    "3\n",
    "\n",
    "2\n",
    "\n",
    "1\n",
    "\n",
    "0\n",
    "\n",
    "Countdown finished!"
   ]
  },
  {
   "cell_type": "code",
   "execution_count": 17,
   "id": "fc184371-7d3b-4f43-a652-736832d9cfdd",
   "metadata": {},
   "outputs": [
    {
     "name": "stdin",
     "output_type": "stream",
     "text": [
      "Please enter a number to start counter:  5\n"
     ]
    },
    {
     "name": "stdout",
     "output_type": "stream",
     "text": [
      "5\n",
      "4\n",
      "3\n",
      "2\n",
      "1\n",
      "0\n",
      "Countdown Finished!\n"
     ]
    }
   ],
   "source": [
    "user_input_counter = int(input(\"Please enter a number to start counter: \"))\n",
    "while user_input_counter >= 0:\n",
    "    if user_input_counter > 0:\n",
    "        print(user_input_counter)\n",
    "    else:\n",
    "        print(user_input_counter)\n",
    "        print(\"Countdown Finished!\")\n",
    "    user_input_counter -= 1"
   ]
  },
  {
   "cell_type": "markdown",
   "id": "cfe42689-a235-4920-a4d2-2b0cbb8e51c6",
   "metadata": {},
   "source": [
    "Q7. Write a Python program that takes a number as input from the user and calculates its factorial using a for loop. The program should display the result to the user.\n",
    "\n",
    "Example Input/Output:\n",
    "\n",
    "Input:\n",
    "5\n",
    "\n",
    "Output:\n",
    "The factorial of 5 is 120"
   ]
  },
  {
   "cell_type": "code",
   "execution_count": 57,
   "id": "8f5f5246-8ea1-46cb-b97b-3222bc4921e5",
   "metadata": {},
   "outputs": [
    {
     "name": "stdin",
     "output_type": "stream",
     "text": [
      "Please enter your number for factorial:  5\n"
     ]
    },
    {
     "name": "stdout",
     "output_type": "stream",
     "text": [
      "The factorial of 5 is 120...\n"
     ]
    }
   ],
   "source": [
    "user_input_1 = int(input(\"Please enter your number for factorial: \"))\n",
    "factorial = 1\n",
    "for i in range(1,user_input_1+1):\n",
    "    factorial *= i\n",
    "print(f\"The factorial of {user_input_1} is {factorial}...\")"
   ]
  },
  {
   "cell_type": "markdown",
   "id": "ee8b3ea5-fe2f-40eb-bcb0-a7ebca6811e0",
   "metadata": {},
   "source": [
    "Q8.\n",
    "\n",
    "Create an empty dictionary called person_info.\n",
    "\n",
    "Assign the following key-value pairs to the dictionary:\n",
    "\n",
    "\"name\": \"Alice\"\n",
    "\n",
    "\"age\": 25\n",
    "\n",
    "\"occupation\": \"Engineer\"\n",
    "\n",
    "After assigning the values, print the dictionary."
   ]
  },
  {
   "cell_type": "code",
   "execution_count": 59,
   "id": "b36d5cdb-f0a1-4b65-8638-5c695453a887",
   "metadata": {},
   "outputs": [
    {
     "name": "stdout",
     "output_type": "stream",
     "text": [
      "{'name': 'Alice', 'age': 25, 'occupation': 'Engineer'}\n"
     ]
    }
   ],
   "source": [
    "person_info = dict()\n",
    "person_info[\"name\"] = \"Alice\"\n",
    "person_info[\"age\"] = 25\n",
    "person_info[\"occupation\"] = \"Engineer\"\n",
    "print(person_info)"
   ]
  },
  {
   "cell_type": "markdown",
   "id": "252146ac-80e2-4961-bd0b-39c9821f9e04",
   "metadata": {},
   "source": [
    "Q9. Printing a right-angled triangle pattern (with NESTED while loop)"
   ]
  },
  {
   "cell_type": "code",
   "execution_count": 103,
   "id": "312c1b22-a190-43ab-9120-a7176fac9b80",
   "metadata": {},
   "outputs": [
    {
     "name": "stdout",
     "output_type": "stream",
     "text": [
      "* \n",
      "* * \n",
      "* * * \n",
      "* * * * \n",
      "* * * * * \n",
      "* * * * * * \n",
      "* * * * * * * \n",
      "* * * * * * * * \n",
      "* * * * * * * * * \n",
      "* * * * * * * * * * \n"
     ]
    }
   ],
   "source": [
    "iterations = 10\n",
    "stars = 1\n",
    "while iterations > 0:\n",
    "    while True:\n",
    "        print(\"* \" * stars)\n",
    "        break\n",
    "    iterations -= 1\n",
    "    stars += 1"
   ]
  },
  {
   "cell_type": "code",
   "execution_count": null,
   "id": "5719c1be-5aa4-4f6a-96a0-a66e2e3983f1",
   "metadata": {},
   "outputs": [],
   "source": [
    "* \n",
    "* * \n",
    "* * * \n",
    "* * * * \n",
    "* * * * * "
   ]
  },
  {
   "cell_type": "markdown",
   "id": "c8e1c594-6022-4dc6-8a7b-e2c3f36c798a",
   "metadata": {},
   "source": [
    "Q10.\n",
    "\n",
    "Write a Python program that does the following:\n",
    "\n",
    "Range: Loop through numbers from 1 to 20 (inclusive).\n",
    "\n",
    "Continue: If the number is divisible by 4, skip that iteration and move to the next number.\n",
    "\n",
    "Break: If the number is divisible by 7, stop the loop entirely.\n",
    "\n",
    "For all other numbers, print the number."
   ]
  },
  {
   "cell_type": "code",
   "execution_count": 61,
   "id": "4e97fcde-147b-4275-ba4f-3f792730c9a3",
   "metadata": {},
   "outputs": [
    {
     "name": "stdout",
     "output_type": "stream",
     "text": [
      "1\n",
      "2\n",
      "3\n",
      "5\n",
      "6\n"
     ]
    }
   ],
   "source": [
    "for i in range(1,21):\n",
    "    if i%4 == 0:\n",
    "        continue\n",
    "    elif i%7 == 0:\n",
    "        break\n",
    "    else:\n",
    "        print(i)"
   ]
  }
 ],
 "metadata": {
  "kernelspec": {
   "display_name": "Python [conda env:base] *",
   "language": "python",
   "name": "conda-base-py"
  },
  "language_info": {
   "codemirror_mode": {
    "name": "ipython",
    "version": 3
   },
   "file_extension": ".py",
   "mimetype": "text/x-python",
   "name": "python",
   "nbconvert_exporter": "python",
   "pygments_lexer": "ipython3",
   "version": "3.12.7"
  }
 },
 "nbformat": 4,
 "nbformat_minor": 5
}
