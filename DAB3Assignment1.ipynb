{
 "cells": [
  {
   "cell_type": "markdown",
   "id": "2ca8b743-249d-47cc-b6bc-288c7032a2f2",
   "metadata": {},
   "source": [
    "1. Write a program that takes two numbers (a = 15 , b = 4) and prints their:\n",
    "\n",
    "\n",
    "- Sum\n",
    "\n",
    "- Difference\n",
    "\n",
    "- Product\n",
    "\n",
    "- Division\n",
    "\n",
    "- Floor Division\n",
    "\n",
    "- Modulus\n"
   ]
  },
  {
   "cell_type": "code",
   "execution_count": 19,
   "id": "7c05f2a0-7725-4e62-9012-1871198a8805",
   "metadata": {},
   "outputs": [
    {
     "name": "stdout",
     "output_type": "stream",
     "text": [
      "19\n",
      "11\n",
      "60\n",
      "3.75\n",
      "3\n",
      "3\n"
     ]
    }
   ],
   "source": [
    "a = 15\n",
    "b = 4\n",
    "addition = a + b\n",
    "difference = a - b\n",
    "product = a * b\n",
    "division = a / b\n",
    "floorDivision = a // b\n",
    "modulus = a % b\n",
    "print(addition,difference,product,division,floorDivision,modulus, sep=\"\\n\")"
   ]
  },
  {
   "cell_type": "markdown",
   "id": "323137d4-4794-4b18-9c02-0444e4323157",
   "metadata": {},
   "source": [
    "2. Convert the following: \n",
    "(num1 = 10, num2 = 5.6, num3 = 4.43)\n",
    "\n",
    "- Integer to float\n",
    "\n",
    "- Float to integer\n",
    "\n",
    "- Float to String"
   ]
  },
  {
   "cell_type": "code",
   "execution_count": 23,
   "id": "02e41482-cd8d-4304-badf-282086bff092",
   "metadata": {},
   "outputs": [
    {
     "name": "stdout",
     "output_type": "stream",
     "text": [
      "10.0\n",
      "5\n",
      "4.43\n"
     ]
    }
   ],
   "source": [
    "num1 = 10\n",
    "num2 = 5.6\n",
    "num3 = 4.43\n",
    "print(float(num1),int(num2),str(num3), sep=\"\\n\")"
   ]
  },
  {
   "cell_type": "markdown",
   "id": "b6a8f851-44c6-4906-a0db-344672319251",
   "metadata": {},
   "source": [
    "3. fruits = [\"apple\", \"banana\", \"cherry\", \"coconut\", \"pineapple\", \"mango\", \"orange\"]\n",
    "\n",
    "Print below using indexing:\n",
    "\n",
    "- The first fruit\n",
    "\n",
    "- The last fruit (negative indexing)\n",
    "\n",
    "- The fourth fruit"
   ]
  },
  {
   "cell_type": "code",
   "execution_count": 27,
   "id": "96bddfb9-9fc6-4275-8daa-ad1ba51c2e28",
   "metadata": {},
   "outputs": [
    {
     "name": "stdout",
     "output_type": "stream",
     "text": [
      "First Fruit:  apple\n",
      "Last Fruit: orange\n",
      "Fourth Fruit: coconut\n"
     ]
    }
   ],
   "source": [
    "fruits = [\"apple\", \"banana\", \"cherry\", \"coconut\", \"pineapple\", \"mango\", \"orange\"]\n",
    "print(\"First Fruit: \",fruits[0])\n",
    "print(\"Last Fruit: \"+ fruits[-1])\n",
    "print(\"Fourth Fruit:\"+\" \"+fruits[3])"
   ]
  },
  {
   "cell_type": "markdown",
   "id": "02eb9ef7-85ad-4036-93c4-5c3f27346ab4",
   "metadata": {},
   "source": [
    "4. List Slicing\n",
    "\n",
    "numbers = [10, 20, 30, 40, 50]\n",
    "\n",
    "Print:\n",
    "\n",
    "- First three elements\n",
    "\n",
    "- Last two elements\n",
    "\n",
    "- Print all elements except the first one\n",
    "\n",
    "- Print all elements except the last one\n",
    "\n",
    "- Print the list in reverse using slicing\n",
    "\n",
    "-  Print every second element"
   ]
  },
  {
   "cell_type": "code",
   "execution_count": 37,
   "id": "de7108f6-9f1f-45cd-9c0a-b72c453d72b8",
   "metadata": {},
   "outputs": [
    {
     "name": "stdout",
     "output_type": "stream",
     "text": [
      "First three elements:  [10, 20, 30]\n",
      "Last two Elements:  [40, 50]\n",
      "All elements except the first one:  [20, 30, 40, 50]\n",
      "All elements except the last one:  [10, 20, 30, 40]\n",
      "List in reverse using slicing:  [50, 40, 30, 20, 10]\n",
      "Every second element:  [10, 30, 50]\n"
     ]
    }
   ],
   "source": [
    "numbers = [10, 20, 30, 40, 50]\n",
    "print(\"First three elements: \",numbers[:3])\n",
    "print(\"Last two Elements: \",numbers[3:5])\n",
    "print(\"All elements except the first one: \",numbers[1:])\n",
    "print(\"All elements except the last one: \",numbers[:4])\n",
    "print(\"List in reverse using slicing: \",numbers[::-1])\n",
    "print(\"Every second element: \",numbers[::2])"
   ]
  },
  {
   "cell_type": "markdown",
   "id": "ca5024d0-feea-40ec-b36d-aa333ea27760",
   "metadata": {},
   "source": [
    "5. Add the number 10 to the end of the list using method.\n",
    "\n",
    "nums = [1, 2, 3]\n"
   ]
  },
  {
   "cell_type": "code",
   "execution_count": 41,
   "id": "2602720f-d84f-4a7b-a5d5-d319e2d226bb",
   "metadata": {},
   "outputs": [
    {
     "name": "stdout",
     "output_type": "stream",
     "text": [
      "[1, 2, 3, 10]\n"
     ]
    }
   ],
   "source": [
    "nums = [1, 2, 3]\n",
    "nums.append(10)\n",
    "print(nums)"
   ]
  },
  {
   "cell_type": "markdown",
   "id": "cac03c9e-a77a-4f9f-b148-315ca1a228de",
   "metadata": {},
   "source": [
    "6. Insert the number 99 at index 1 using method.\n",
    "\n",
    "nums = [1, 2, 3]\n"
   ]
  },
  {
   "cell_type": "code",
   "execution_count": 45,
   "id": "c0b9eae9-b1ca-41fa-b42b-017e95430ec6",
   "metadata": {},
   "outputs": [
    {
     "name": "stdout",
     "output_type": "stream",
     "text": [
      "[1, 99, 2, 3]\n"
     ]
    }
   ],
   "source": [
    "nums = [1, 2, 3]\n",
    "nums.insert(1,99)\n",
    "print(nums)"
   ]
  },
  {
   "cell_type": "markdown",
   "id": "755179b2-5aa8-4ba9-bb07-4054b83cf3f0",
   "metadata": {},
   "source": [
    "7.  Add the elements of another list [4, 5] to the original list using method\n",
    "\n",
    "nums = [1, 2, 3]"
   ]
  },
  {
   "cell_type": "code",
   "execution_count": 47,
   "id": "4a1dcad5-07f5-455b-995e-70f70d1144d7",
   "metadata": {},
   "outputs": [
    {
     "name": "stdout",
     "output_type": "stream",
     "text": [
      "[1, 2, 3, 4, 5]\n"
     ]
    }
   ],
   "source": [
    "nums = [1, 2, 3]\n",
    "nums.extend([4,5])\n",
    "print(nums)"
   ]
  },
  {
   "cell_type": "markdown",
   "id": "77c3acdf-c270-46b4-a620-e02e59b63f76",
   "metadata": {},
   "source": [
    "8.  Sort the list in ascending order using method\n",
    "\n",
    "nums = [4, 1, 3, 2]"
   ]
  },
  {
   "cell_type": "code",
   "execution_count": 49,
   "id": "a4b45461-4d38-4f97-bd9d-c54dfecc2ff3",
   "metadata": {},
   "outputs": [
    {
     "name": "stdout",
     "output_type": "stream",
     "text": [
      "[1, 2, 3, 4]\n"
     ]
    }
   ],
   "source": [
    "nums = [4, 1, 3, 2]\n",
    "nums.sort()\n",
    "print(nums)"
   ]
  },
  {
   "cell_type": "markdown",
   "id": "471d609a-55e8-4227-a8fd-d6ef73628bf5",
   "metadata": {},
   "source": [
    "9. A customer orders several food items. Add the items to a list and then:\n",
    "\n",
    "order = [\"burger\", \"fries\", \"coke\"]\n",
    "\n",
    "- Add a new item \"ice cream\" using append()\n",
    "\n",
    "- Remove an item \"biryani\" using remove()\n",
    "\n",
    "- Show the final order"
   ]
  },
  {
   "cell_type": "code",
   "execution_count": 53,
   "id": "74e84f1f-127a-4efe-9ee8-3841e6f79ce1",
   "metadata": {},
   "outputs": [
    {
     "name": "stdout",
     "output_type": "stream",
     "text": [
      "['burger', 'fries', 'coke', 'ice cream']\n"
     ]
    }
   ],
   "source": [
    "order = [\"burger\", \"fries\", \"coke\"]\n",
    "order.append(\"ice cream\")\n",
    "#order.remove(\"biryani\")\n",
    "print(order)"
   ]
  },
  {
   "cell_type": "markdown",
   "id": "5bdde849-44d9-4ab6-b496-fb125d9b73bd",
   "metadata": {},
   "source": [
    "10. Track passengers on a bus:\n",
    "\n",
    "passengers = [\"Ali\", \"Zara\", \"Ahmed\"]\n",
    "\n",
    "\n",
    "- Insert a new passenger \"Sara\" at position 2\n",
    "\n",
    "- Remove passesnger who got off \"Zara\"\n",
    "\n",
    "- Reverse the order to show who entered first"
   ]
  },
  {
   "cell_type": "code",
   "execution_count": 55,
   "id": "5d34ff6f-eb9a-416e-bd4a-9950dc99561b",
   "metadata": {},
   "outputs": [
    {
     "name": "stdout",
     "output_type": "stream",
     "text": [
      "['Ahmed', 'Sara', 'Ali']\n"
     ]
    }
   ],
   "source": [
    "passengers = [\"Ali\", \"Zara\", \"Ahmed\"]\n",
    "passengers.insert(1,\"Sara\")\n",
    "passengers.remove(\"Zara\")\n",
    "print(passengers[::-1])"
   ]
  },
  {
   "cell_type": "code",
   "execution_count": null,
   "id": "593f6f0a-6556-4d99-b9b2-fe19f97f664c",
   "metadata": {},
   "outputs": [],
   "source": []
  }
 ],
 "metadata": {
  "kernelspec": {
   "display_name": "Python [conda env:base] *",
   "language": "python",
   "name": "conda-base-py"
  },
  "language_info": {
   "codemirror_mode": {
    "name": "ipython",
    "version": 3
   },
   "file_extension": ".py",
   "mimetype": "text/x-python",
   "name": "python",
   "nbconvert_exporter": "python",
   "pygments_lexer": "ipython3",
   "version": "3.12.7"
  }
 },
 "nbformat": 4,
 "nbformat_minor": 5
}
