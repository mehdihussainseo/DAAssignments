{
 "cells": [
  {
   "cell_type": "markdown",
   "id": "6cfd25d7-2816-468c-9b66-e53411f938ac",
   "metadata": {},
   "source": [
    "1- text = 'hello python world'\n",
    "\n",
    "Replace spaces with underscores in the string (e.g., \"hello python world\" → \"hello_python_world\").\n",
    "\n",
    "Split the modified string (e.g., \"hello_python_world\" → ['hello', 'python', 'world']).\n",
    "\n",
    "Join the list elements with a hyphen (-) between them (e.g., ['hello', 'python', 'world'] → \"hello-python-world\").\n",
    "\n",
    "Print all three results\n",
    "\n",
    "Hint: Use string methods"
   ]
  },
  {
   "cell_type": "code",
   "execution_count": 7,
   "id": "9ec0df8a-1b3a-407e-aef2-b8692d8fd75d",
   "metadata": {},
   "outputs": [
    {
     "name": "stdout",
     "output_type": "stream",
     "text": [
      "hello_python_world\n"
     ]
    }
   ],
   "source": [
    "# using replace method\n",
    "text = 'hello python world'\n",
    "text = text.replace(\" \",\"_\")\n",
    "print(text)"
   ]
  },
  {
   "cell_type": "code",
   "execution_count": 9,
   "id": "ea379bb7-b2c5-4dd1-b467-90a4adfb7ac2",
   "metadata": {},
   "outputs": [
    {
     "name": "stdout",
     "output_type": "stream",
     "text": [
      "['hello', 'python', 'world']\n"
     ]
    }
   ],
   "source": [
    "# Spliting the string\n",
    "text = text.split(\"_\")\n",
    "print(text)"
   ]
  },
  {
   "cell_type": "code",
   "execution_count": 11,
   "id": "39833399-0cae-4048-83a1-c5278da44c66",
   "metadata": {},
   "outputs": [
    {
     "name": "stdout",
     "output_type": "stream",
     "text": [
      "hello-python-world\n"
     ]
    }
   ],
   "source": [
    "# joining elements in list and convert them into string\n",
    "print(\"-\".join(text))"
   ]
  },
  {
   "cell_type": "markdown",
   "id": "43b16f9d-fe31-4abf-8377-82c6cc146e07",
   "metadata": {},
   "source": [
    "2- Check if a string has more than 5 characters. Return True/False\n",
    "\n",
    "word = \"Javascript\""
   ]
  },
  {
   "cell_type": "code",
   "execution_count": 13,
   "id": "070faf68-aed8-421c-90f9-691710410a37",
   "metadata": {},
   "outputs": [
    {
     "data": {
      "text/plain": [
       "True"
      ]
     },
     "execution_count": 13,
     "metadata": {},
     "output_type": "execute_result"
    }
   ],
   "source": [
    "# checking if the length of string is > 5\n",
    "word = \"Javascript\"\n",
    "len(word) > 5"
   ]
  },
  {
   "cell_type": "markdown",
   "id": "b1f1b114-fa24-40b3-851b-208bef6992f3",
   "metadata": {},
   "source": [
    "3- Check if a number is even and greater than 10. Return True/False\n",
    "\n",
    "num2 = 12"
   ]
  },
  {
   "cell_type": "code",
   "execution_count": 19,
   "id": "9aae6317-7bce-408d-b51c-91dab76ecf31",
   "metadata": {},
   "outputs": [
    {
     "data": {
      "text/plain": [
       "True"
      ]
     },
     "execution_count": 19,
     "metadata": {},
     "output_type": "execute_result"
    }
   ],
   "source": [
    "# Checking if number is even and greater than 10\n",
    "num2 = 12\n",
    "(num2 % 2 == 0) and (num2 > 10)"
   ]
  },
  {
   "cell_type": "markdown",
   "id": "a8861555-edde-43cb-94c7-ace2988433fa",
   "metadata": {},
   "source": [
    "4- Check if a number is less than 5 or greater than 20. Return True/False\n",
    "\n",
    "num3 = 3"
   ]
  },
  {
   "cell_type": "code",
   "execution_count": 23,
   "id": "d6b64bc8-fe87-4de6-ae9a-964e9c6b9d3b",
   "metadata": {},
   "outputs": [
    {
     "data": {
      "text/plain": [
       "True"
      ]
     },
     "execution_count": 23,
     "metadata": {},
     "output_type": "execute_result"
    }
   ],
   "source": [
    "# checking if number is < 5 or > 20\n",
    "num3 = 3\n",
    "(num3 < 5) or (num3 > 20)"
   ]
  },
  {
   "cell_type": "markdown",
   "id": "1bb3ccd8-c052-47ed-ab1c-d76496b2174c",
   "metadata": {},
   "source": [
    "5- Check if a person’s age is between 18 and 65 and if they have a valid ID\n",
    "\n",
    "age = 25\n",
    "\n",
    "has_id = True"
   ]
  },
  {
   "cell_type": "code",
   "execution_count": 35,
   "id": "ff5d337e-481c-4bc3-9196-50592d8fd7cb",
   "metadata": {},
   "outputs": [
    {
     "data": {
      "text/plain": [
       "True"
      ]
     },
     "execution_count": 35,
     "metadata": {},
     "output_type": "execute_result"
    }
   ],
   "source": [
    "# Checking if a person's age is 18<age<65 and has id\n",
    "age = 25\n",
    "has_id = True\n",
    "(18<age<65) and (has_id == True)\n"
   ]
  },
  {
   "cell_type": "markdown",
   "id": "2842c61a-03a6-4501-b217-b616e35d5381",
   "metadata": {},
   "source": [
    "6-Write a script to check if a string starts with (http://) or (https://)\n",
    "\n",
    "url = \"https://www.example.com\""
   ]
  },
  {
   "cell_type": "code",
   "execution_count": 71,
   "id": "b3de6fe3-ceeb-4d7a-9a65-e5b294f61bf9",
   "metadata": {},
   "outputs": [
    {
     "data": {
      "text/plain": [
       "True"
      ]
     },
     "execution_count": 71,
     "metadata": {},
     "output_type": "execute_result"
    }
   ],
   "source": [
    "# Checking if a starts with https:// or http://\n",
    "url = \"https://www.example.com\"\n",
    "url.startswith((\"http://\",\"https://\"))"
   ]
  },
  {
   "cell_type": "markdown",
   "id": "aab1ae26-2cc7-4d19-937d-a83c6cffc5ec",
   "metadata": {},
   "source": [
    "7- Write a script that applies a 10% discount to an item's price. (Using Assignment Operator)\n",
    "\n",
    "price = 100"
   ]
  },
  {
   "cell_type": "code",
   "execution_count": 77,
   "id": "acf12fa2-e09d-4b74-86aa-e5a0ac73baed",
   "metadata": {},
   "outputs": [
    {
     "name": "stdout",
     "output_type": "stream",
     "text": [
      "90\n"
     ]
    }
   ],
   "source": [
    "# Applying 10% discount!\n",
    "price = 100\n",
    "discount = int((10/100) * price)\n",
    "print(price - discount)"
   ]
  },
  {
   "cell_type": "markdown",
   "id": "f6cddfb2-70b7-4e67-9b02-728c82e92e2f",
   "metadata": {},
   "source": [
    "8- You are managing different customer lists for a subscription service, check if alice@example.com is our both premium and basic customer\n",
    "\n",
    "premium_customers = [\"alice@example.com\", \"charlie@example.com\", \"bob@example.com\"]\n",
    "\n",
    "basic_customers = [\"alex@example.com\", \"david@example.com\", \"chloe@example.com\"]"
   ]
  },
  {
   "cell_type": "code",
   "execution_count": 81,
   "id": "ff285d8c-f226-4e00-b8f4-072a2c23ecc2",
   "metadata": {},
   "outputs": [
    {
     "data": {
      "text/plain": [
       "False"
      ]
     },
     "execution_count": 81,
     "metadata": {},
     "output_type": "execute_result"
    }
   ],
   "source": [
    "# Checking if \"alice@example.com\" is in both the lists\n",
    "premium_customers = [\"alice@example.com\", \"charlie@example.com\", \"bob@example.com\"]\n",
    "basic_customers = [\"alex@example.com\", \"david@example.com\", \"chloe@example.com\"]\n",
    "(\"alice@example.com\" in premium_customers) and (\"alice@example.com\" in basic_customers)"
   ]
  },
  {
   "cell_type": "markdown",
   "id": "47dbafcf-7a6b-4ba0-af44-1e567292f8de",
   "metadata": {},
   "source": [
    "9. Write a Python program that prompts the user to enter a password and returns True or False based on the following checks:\n",
    "\n",
    "Whether the string contains any uppercase characters.\n",
    "\n",
    "Whether the string contains any lowercase characters.\n",
    "\n",
    "Whether the string contains any spaces.\n",
    "\n",
    "Whether the string contains any special characters (anything other than letters, digits, and spaces).\n",
    "\n",
    "\n",
    "\n",
    "Hint: Use Input function and string methods\n"
   ]
  },
  {
   "cell_type": "code",
   "execution_count": 3,
   "id": "b6ab454f-b697-4357-adcc-bbb10d75639c",
   "metadata": {},
   "outputs": [
    {
     "name": "stdin",
     "output_type": "stream",
     "text": [
      "Enter Your Name:  Shahmeer\n"
     ]
    },
    {
     "name": "stdout",
     "output_type": "stream",
     "text": [
      "Password has Upper Case Characters: True\n"
     ]
    }
   ],
   "source": [
    "# Checking the string contains any uppercase characters\n",
    "password = input(\"Enter Your Name: \")\n",
    "hasUpperCase = password.islower() == False\n",
    "print(\"Password has Upper Case Characters:\",hasUpperCase)"
   ]
  },
  {
   "cell_type": "code",
   "execution_count": 79,
   "id": "6e703027-a944-4056-b1e9-488fa98c48e9",
   "metadata": {},
   "outputs": [
    {
     "name": "stdin",
     "output_type": "stream",
     "text": [
      "Enter Your Name:  aadsda!sfgsf\n"
     ]
    },
    {
     "name": "stdout",
     "output_type": "stream",
     "text": [
      "Password has Lower Case Characters: True\n"
     ]
    }
   ],
   "source": [
    "# Checking the string contains any Lowercase characters\n",
    "password = input(\"Enter Your Name: \")\n",
    "hasLowerCase = password.lower() == password\n",
    "print(\"Password has Lower Case Characters:\",hasLowerCase)"
   ]
  },
  {
   "cell_type": "code",
   "execution_count": 77,
   "id": "59e612ea-9621-476f-80c6-705c63d024d1",
   "metadata": {},
   "outputs": [
    {
     "name": "stdin",
     "output_type": "stream",
     "text": [
      "Please Enter Your Password:  saSDasda \n"
     ]
    },
    {
     "name": "stdout",
     "output_type": "stream",
     "text": [
      "Your Password has Spaces. True\n"
     ]
    }
   ],
   "source": [
    "# string contains any spaces...\n",
    "password = input(\"Please Enter Your Password: \")\n",
    "hasSpaces = \" \" in password\n",
    "print(\"Your Password has Spaces.\",hasSpaces)"
   ]
  },
  {
   "cell_type": "code",
   "execution_count": 3,
   "id": "93f235b4-ff20-46be-9bb4-3d7434473088",
   "metadata": {},
   "outputs": [
    {
     "name": "stdin",
     "output_type": "stream",
     "text": [
      "Please Enter Your Password:  sjndfJDFN JSDNFpsn\n"
     ]
    },
    {
     "name": "stdout",
     "output_type": "stream",
     "text": [
      "Your Password Has Special Character:  False\n"
     ]
    }
   ],
   "source": [
    "# password Contains special characters\n",
    "password = input(\"Please Enter Your Password: \")\n",
    "alphaNumSpaces = \"abcdefghijklmnopqrstuvwxyzABCDEFGHIJKLMNOPQRSTUVWXYZ0123456789 \"\n",
    "hasSpecialCharacter = len(password.translate(str.maketrans(\"\", \"\", alphaNumSpaces))) > 0\n",
    "print(\"Your Password Has Special Character: \", hasSpecialCharacter)"
   ]
  },
  {
   "cell_type": "markdown",
   "id": "8164e2d0-dc5a-4439-a196-1545e0a55139",
   "metadata": {},
   "source": [
    "10- You have a product code that follows the format \"SKU-12345-XYZ\". \n",
    "\n",
    "Find the first position of the dash (-).\n",
    "\n",
    "Count the number of dashes (-) in the product code.\n",
    "\n",
    "Remove the \"SKU-\" prefix and \"-XYZ\" suffix from the product code, Extract the numeric part 12345\n",
    "\n",
    "Hint: Use String Methods"
   ]
  },
  {
   "cell_type": "code",
   "execution_count": 55,
   "id": "3804ef6e-0881-4f70-a613-9d842c294016",
   "metadata": {},
   "outputs": [
    {
     "name": "stdout",
     "output_type": "stream",
     "text": [
      "3\n"
     ]
    }
   ],
   "source": [
    "productCode = \"SKU-12345-XYZ\"\n",
    "firstIndex = productCode.find(\"-\")\n",
    "print(firstIndex)"
   ]
  },
  {
   "cell_type": "code",
   "execution_count": 57,
   "id": "70209883-8761-4404-a411-80bfa11037df",
   "metadata": {},
   "outputs": [
    {
     "name": "stdout",
     "output_type": "stream",
     "text": [
      "2\n"
     ]
    }
   ],
   "source": [
    "dashesCount = productCode.count(\"-\")\n",
    "print(dashesCount)"
   ]
  },
  {
   "cell_type": "code",
   "execution_count": 61,
   "id": "f1b37eb2-7dfa-400f-be3d-dadf6d283d83",
   "metadata": {},
   "outputs": [
    {
     "name": "stdout",
     "output_type": "stream",
     "text": [
      "12345\n"
     ]
    }
   ],
   "source": [
    "preProductCode = productCode.removeprefix(\"SKU-\")\n",
    "numProductCode = preProductCode.removesuffix(\"-XYZ\")\n",
    "print(numProductCode)"
   ]
  },
  {
   "cell_type": "code",
   "execution_count": null,
   "id": "3e014155-283a-43e8-a430-e0a64bbc62d6",
   "metadata": {},
   "outputs": [],
   "source": []
  }
 ],
 "metadata": {
  "kernelspec": {
   "display_name": "Python [conda env:base] *",
   "language": "python",
   "name": "conda-base-py"
  },
  "language_info": {
   "codemirror_mode": {
    "name": "ipython",
    "version": 3
   },
   "file_extension": ".py",
   "mimetype": "text/x-python",
   "name": "python",
   "nbconvert_exporter": "python",
   "pygments_lexer": "ipython3",
   "version": "3.12.7"
  }
 },
 "nbformat": 4,
 "nbformat_minor": 5
}
