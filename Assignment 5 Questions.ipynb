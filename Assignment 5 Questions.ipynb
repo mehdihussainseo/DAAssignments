{
 "cells": [
  {
   "cell_type": "markdown",
   "id": "a758a746-ab4b-48b6-98dc-45093b46607d",
   "metadata": {},
   "source": [
    "1. Write a Python function called add_numbers that takes two numbers as arguments and returns their sum. Then, test the function by calling it with two numbers of your choice."
   ]
  },
  {
   "cell_type": "code",
   "execution_count": 3,
   "id": "77b2883b-3983-4a11-a1d6-ce2dee3563db",
   "metadata": {},
   "outputs": [],
   "source": [
    "def add_numbers(a,b):\n",
    "    return a + b"
   ]
  },
  {
   "cell_type": "code",
   "execution_count": 5,
   "id": "913961ec-1ddb-4131-b31e-09017baf2718",
   "metadata": {},
   "outputs": [
    {
     "name": "stdout",
     "output_type": "stream",
     "text": [
      "30\n"
     ]
    }
   ],
   "source": [
    "print(add_numbers(10,20))"
   ]
  },
  {
   "cell_type": "markdown",
   "id": "73ff5400-836c-44ee-aeeb-0b84be9db4d8",
   "metadata": {},
   "source": [
    "2. Create a Python function called currency_converter() that takes two arguments:\n",
    "\n",
    "- amount: The amount of money to be converted (in USD).\n",
    "- exchange_rate (default is 280): The conversion rate from USD to another currency (e.g., PKR). You can assume the default rate is 1 USD = 280 PKR.\n",
    "\n",
    "The function should return a message showing how much the given amount is worth in the target currency (PKR)."
   ]
  },
  {
   "cell_type": "code",
   "execution_count": 15,
   "id": "6029e676-5f82-4030-a71b-41f9f8aaa151",
   "metadata": {},
   "outputs": [],
   "source": [
    "def currency_converter(amount,exchange_rate=280):\n",
    "    return f\"Rs.{amount} is equal to {amount / exchange_rate:.2f} USD.\""
   ]
  },
  {
   "cell_type": "code",
   "execution_count": 17,
   "id": "e4d41ad4-9492-4d6f-a64c-9d1a15e54c7a",
   "metadata": {},
   "outputs": [
    {
     "name": "stdout",
     "output_type": "stream",
     "text": [
      "Rs.15000 is equal to 53.57 USD.\n"
     ]
    }
   ],
   "source": [
    "print(currency_converter(15000))"
   ]
  },
  {
   "cell_type": "markdown",
   "id": "0f49a1a2-234e-434f-bbc1-bb5ed293e2c4",
   "metadata": {},
   "source": [
    "3. Write a Python function display_student_info that accepts the following details about a student:\n",
    "\n",
    "- name (Keyword argument): The name of the student.\n",
    "- age (Keyword argument): The age of the student.\n",
    "- grade (Keyword argument): The grade the student is in.\n",
    "- school (Keyword argument): The name of the school the student attends."
   ]
  },
  {
   "cell_type": "code",
   "execution_count": 73,
   "id": "646fccda-8c07-4c50-856e-1ef495faa247",
   "metadata": {},
   "outputs": [],
   "source": [
    "def display_student_info(**kwargs):\n",
    "    return f\"Name: {kwargs[\"name\"]}\\nAge: {kwargs[\"age\"]}\\nGrade: {kwargs[\"grade\"]}\\nSchool: {kwargs[\"school\"]}\""
   ]
  },
  {
   "cell_type": "code",
   "execution_count": 75,
   "id": "23adc630-daa1-4002-bfe8-ec2c4561fe30",
   "metadata": {},
   "outputs": [
    {
     "name": "stdout",
     "output_type": "stream",
     "text": [
      "Name: xyz\n",
      "Age: 123\n",
      "Grade: 456\n",
      "School: abcd\n"
     ]
    }
   ],
   "source": [
    "print(display_student_info(name=\"xyz\",age=123,grade=456,school=\"abcd\"))"
   ]
  },
  {
   "cell_type": "markdown",
   "id": "6bd6698d-f556-439a-981f-dfa0ef46ed9a",
   "metadata": {},
   "source": [
    "4. Write a Python function calculate_price that accepts two positional arguments:\n",
    "\n",
    "- price: The price of a single item.\n",
    "- quantity: The number of items bought.\n",
    "- The function should return the total price by multiplying price and quantity."
   ]
  },
  {
   "cell_type": "code",
   "execution_count": 23,
   "id": "d3b21dbc-9854-433f-9368-25cf491f8b70",
   "metadata": {},
   "outputs": [],
   "source": [
    "def calculate_price(price,quantity):\n",
    "    return price * quantity"
   ]
  },
  {
   "cell_type": "code",
   "execution_count": 25,
   "id": "58c5934a-78cf-463d-9189-764d642250e2",
   "metadata": {},
   "outputs": [
    {
     "name": "stdout",
     "output_type": "stream",
     "text": [
      "630\n"
     ]
    }
   ],
   "source": [
    "print(calculate_price(15,42))"
   ]
  },
  {
   "cell_type": "markdown",
   "id": "e589be97-b036-4b13-86b9-9d3312761a0c",
   "metadata": {},
   "source": [
    "5. Write a Python function display_prices that takes a product name and an arbitrary number of keyword arguments representing product prices. The function should display each product and its price.\n",
    "\n",
    "Product: Laptop\n",
    "\n",
    "Amazon: $800\n",
    "\n",
    "eBay: $750\n",
    "\n",
    "Walmart: $780"
   ]
  },
  {
   "cell_type": "code",
   "execution_count": 71,
   "id": "2f0e2996-1920-452f-b14e-4cdcd08b40cc",
   "metadata": {},
   "outputs": [
    {
     "name": "stdout",
     "output_type": "stream",
     "text": [
      "Product: laptop\n",
      "Amazon: $800\n",
      "eBay: $750\n",
      "Walmart: $780\n"
     ]
    }
   ],
   "source": [
    "def display_prices(product,**kwargs):\n",
    "    return f\"Product: {product}\\nAmazon: ${kwargs[\"amazon\"]}\\neBay: ${kwargs[\"ebay\"]}\\nWalmart: ${kwargs[\"walmart\"]}\"\n",
    "\n",
    "print(display_prices(\"laptop\",amazon=\"800\",ebay=\"750\",walmart=\"780\"))"
   ]
  },
  {
   "cell_type": "markdown",
   "id": "5a5910f5-e54e-4515-8c98-c3898f96c1ca",
   "metadata": {},
   "source": [
    "6. Write a Python function find_max that takes any number of numerical arguments and returns the maximum number."
   ]
  },
  {
   "cell_type": "code",
   "execution_count": 27,
   "id": "4607aa2b-6951-4dda-a695-c764f8cda074",
   "metadata": {},
   "outputs": [],
   "source": [
    "def find_max(*args):\n",
    "    return max(args)"
   ]
  },
  {
   "cell_type": "code",
   "execution_count": 29,
   "id": "08ea274b-7ce4-4d19-b18f-ffdcc28233f3",
   "metadata": {},
   "outputs": [
    {
     "name": "stdout",
     "output_type": "stream",
     "text": [
      "90\n"
     ]
    }
   ],
   "source": [
    "print(find_max(10,20,30,40,90,50,60))"
   ]
  },
  {
   "cell_type": "markdown",
   "id": "44669d12-8201-466b-a8e8-f7538f3eb72f",
   "metadata": {},
   "source": [
    "7. Write a Python function display_info that takes:\n",
    "Positional arguments for the name and age of a person.\n",
    "Keyword arguments for other personal details like address, phone number, and email.\n",
    "Example Output:\n",
    "\n",
    "- Name: Alice\n",
    "- Age: 30\n",
    "- Other Details:\n",
    "    - address: 123 Main St\n",
    "    - phone: 123-456-7890\n",
    "    - email: alice@example.com"
   ]
  },
  {
   "cell_type": "code",
   "execution_count": 67,
   "id": "5f7d2daf-2aa9-478f-bb03-b7e30ad422b8",
   "metadata": {},
   "outputs": [
    {
     "name": "stdout",
     "output_type": "stream",
     "text": [
      "Name:Alice\n",
      "Age:30\n",
      "Other Details:\n",
      "\taddress:123 Main St\n",
      "\tphone:123-456-789\n",
      "\temail:alice@example.com\n"
     ]
    }
   ],
   "source": [
    "def display_info(name,age,**kwargs):\n",
    "    return f\"Name:{name}\\nAge:{age}\\nOther Details:\\n\\taddress:{kwargs[\"address\"]}\\n\\tphone:{kwargs[\"phone\"]}\\n\\temail:{kwargs[\"email\"]}\"\n",
    "\n",
    "print(display_info(\"Alice\",\"30\",address=\"123 Main St\",phone=\"123-456-789\",email=\"alice@example.com\"))"
   ]
  },
  {
   "cell_type": "markdown",
   "id": "bdbfd749-11e9-46f5-ab44-624a2799b5ab",
   "metadata": {},
   "source": [
    "8. products = [ {\"name\": \"Laptop\", \"price\": 1200, \"in_stock\": True, \"discount\": 0.1}, {\"name\": \"Smartphone\", \"price\": 800, \"in_stock\": False, \"discount\": 0.05}, {\"name\": \"Headphones\", \"price\": 150, \"in_stock\": True, \"discount\": 0.2}, {\"name\": \"Smartwatch\", \"price\": 300, \"in_stock\": True, \"discount\": 0}, {\"name\": \"Keyboard\", \"price\": 100, \"in_stock\": True, \"discount\": 0.15} ]\n",
    "\n",
    "- Get names of in-stock products:\n",
    "\n",
    "*Use list comprehension to generate a list of names for the products that are in stock.\n",
    "\n",
    "- Calculate final prices for in-stock products after discount:\n",
    "\n",
    "*For products that have a discount, calculate the final price by applying the discount.\n",
    "\n",
    "*For products with no discount, keep the original price.\n",
    "\n",
    "- Generate a list of tuples with the product name and its final price.\n",
    "\n",
    "Example Output:\n",
    "\n",
    "- In-stock product names: ['Laptop', 'Headphones', 'Smartwatch', 'Keyboard']\n",
    "- Discounted prices: [('Laptop', 1080.0), ('Headphones', 120.0), ('Smartwatch', 300), ('Keyboard', 85.0)]"
   ]
  },
  {
   "cell_type": "code",
   "execution_count": 57,
   "id": "6b132e75-3734-4abd-b4a3-fce3a01afebd",
   "metadata": {},
   "outputs": [
    {
     "name": "stdout",
     "output_type": "stream",
     "text": [
      "['Laptop', 'Headphones', 'Smartwatch', 'Keyboard']\n",
      "[1080, 120, 300, 85]\n",
      "[('Laptop', 1080), ('Headphones', 120), ('Smartwatch', 300), ('Keyboard', 85)]\n"
     ]
    }
   ],
   "source": [
    "products = [ {\"name\": \"Laptop\", \"price\": 1200, \"in_stock\": True, \"discount\": 0.1}, \n",
    "            {\"name\": \"Smartphone\", \"price\": 800, \"in_stock\": False, \"discount\": 0.05}, \n",
    "            {\"name\": \"Headphones\", \"price\": 150, \"in_stock\": True, \"discount\": 0.2}, \n",
    "            {\"name\": \"Smartwatch\", \"price\": 300, \"in_stock\": True, \"discount\": 0}, \n",
    "            {\"name\": \"Keyboard\", \"price\": 100, \"in_stock\": True, \"discount\": 0.15}]\n",
    "in_stock_items = [x[\"name\"] for x in products if x[\"in_stock\"]==True]\n",
    "item_prices_after_discount_tuple = [(x[\"name\"], int(x[\"price\"]-(x[\"price\"]*x[\"discount\"]))) for x in products if x[\"in_stock\"]==True]\n",
    "prices_after_discount = [int(x[\"price\"]-(x[\"price\"]*x[\"discount\"])) for x in products if x[\"in_stock\"]==True]\n",
    "print(in_stock_items)\n",
    "print(prices_after_discount)\n",
    "print(item_prices_after_discount_tuple)"
   ]
  },
  {
   "cell_type": "markdown",
   "id": "82c385f9-3462-4bd5-9932-6494ba7f4ea4",
   "metadata": {},
   "source": [
    "9.Create a list of even numbers between 1 and 20. (List Comprehension)"
   ]
  },
  {
   "cell_type": "code",
   "execution_count": 33,
   "id": "11e0f840-8c9a-4381-89d6-56531994172d",
   "metadata": {},
   "outputs": [
    {
     "name": "stdout",
     "output_type": "stream",
     "text": [
      "[2, 4, 6, 8, 10, 12, 14, 16, 18, 20]\n"
     ]
    }
   ],
   "source": [
    "list_of_even_numbers = [x for x in range(1,21) if x%2==0]\n",
    "print(list_of_even_numbers)"
   ]
  },
  {
   "cell_type": "markdown",
   "id": "aade3ca0-7357-42c0-96c5-05152574ae76",
   "metadata": {},
   "source": [
    "10. Create a list of numbers, generate a new list containing only the numbers that are divisible by 3 or 5. (List Comprehension)"
   ]
  },
  {
   "cell_type": "code",
   "execution_count": 35,
   "id": "64121eba-6c94-427a-9269-2df6829cc2fd",
   "metadata": {},
   "outputs": [
    {
     "name": "stdout",
     "output_type": "stream",
     "text": [
      "[3, 5, 6, 9, 10, 12, 15, 18, 20]\n"
     ]
    }
   ],
   "source": [
    "new_list_1 = [x for x in range(1,21) if x%3==0 or x%5==0]\n",
    "print(new_list_1)"
   ]
  },
  {
   "cell_type": "code",
   "execution_count": null,
   "id": "c30fb540-1ad9-4730-8e1c-a18e41640b7a",
   "metadata": {},
   "outputs": [],
   "source": []
  }
 ],
 "metadata": {
  "kernelspec": {
   "display_name": "Python [conda env:base] *",
   "language": "python",
   "name": "conda-base-py"
  },
  "language_info": {
   "codemirror_mode": {
    "name": "ipython",
    "version": 3
   },
   "file_extension": ".py",
   "mimetype": "text/x-python",
   "name": "python",
   "nbconvert_exporter": "python",
   "pygments_lexer": "ipython3",
   "version": "3.12.7"
  }
 },
 "nbformat": 4,
 "nbformat_minor": 5
}
